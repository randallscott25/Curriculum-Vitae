{
  "nbformat": 4,
  "nbformat_minor": 0,
  "metadata": {
    "colab": {
      "name": "Week3Lab.ipynb",
      "provenance": [],
      "collapsed_sections": [],
      "authorship_tag": "ABX9TyMDKotrCnhbiFBUh+PyOXWQ",
      "include_colab_link": true
    },
    "kernelspec": {
      "name": "python3",
      "display_name": "Python 3"
    }
  },
  "cells": [
    {
      "cell_type": "markdown",
      "metadata": {
        "id": "view-in-github",
        "colab_type": "text"
      },
      "source": [
        "<a href=\"https://colab.research.google.com/github/randallscott25/Curriculum-Vitae/blob/master/Week3Lab.ipynb\" target=\"_parent\"><img src=\"https://colab.research.google.com/assets/colab-badge.svg\" alt=\"Open In Colab\"/></a>"
      ]
    },
    {
      "cell_type": "markdown",
      "metadata": {
        "id": "M7SzgGUkWw-9",
        "colab_type": "text"
      },
      "source": [
        "#Randall Scott Taylor \n",
        "\n",
        "### Week 3 Labs \n",
        "\n",
        "This is a quick overview of major models for consumer choice and product promotion. \n",
        "\n",
        "This is something that's a little new for us. We've got this user-defined module, import evaluate classifier as eval. And if we go into our directory, we can see that that script or that module-- that script, that module is sitting right here. We're going to call that and we're going to use that to determine how we did, as far as classifying this consumer as one who would switch or one who wouldn't switch"
      ]
    },
    {
      "cell_type": "code",
      "metadata": {
        "id": "kuLPCx9QWkjL",
        "colab_type": "code",
        "colab": {
          "base_uri": "https://localhost:8080/",
          "height": 73
        },
        "outputId": "00fc423d-f930-4861-fcc8-9c531bb7943e"
      },
      "source": [
        "#Based on Miller (2015)\n",
        "#Data based on cell phone switching between plans\n",
        "\n",
        "#You will need to call the evaluate_classifier.py alogorithm module, \n",
        "#ensure that it is in the same colab / jupyter directory \n",
        "\n",
        "#The purpose of this is to endeavor to idenify targets (Python)\n",
        "\n",
        "%matplotlib inline\n",
        "\n",
        "#import packages for TEXT PROCESSING and MACHINE LEARNING \n",
        "import pandas as pd # DataFrame structure and operations\n",
        "import numpy as np #arrays and numerical processing \n",
        "import matplotlib.pyplot as plt #this is for 2D\n",
        "import statsmodels.api as sm # logistic regression \n",
        "import statsmodels.formula.api as smf # R-like model specification \n",
        "import patsy # translate model specificatgion into design matrices \n",
        "\n",
        "import seaborn as sns # Provides Trellis and small muliple plotting \n",
        "\n",
        "#IMPORT The User Define Algorythm \n",
        "import evaluate_classifier as eval \n",
        "\n"
      ],
      "execution_count": 2,
      "outputs": [
        {
          "output_type": "stream",
          "text": [
            "/usr/local/lib/python3.6/dist-packages/statsmodels/tools/_testing.py:19: FutureWarning: pandas.util.testing is deprecated. Use the functions in the public API at pandas.testing instead.\n",
            "  import pandas.util.testing as tm\n"
          ],
          "name": "stderr"
        }
      ]
    },
    {
      "cell_type": "markdown",
      "metadata": {
        "id": "vhvn5g7eZ3zB",
        "colab_type": "text"
      },
      "source": [
        "# DATA SECTION \n",
        "\n",
        "# Read in comm-delimited text-file and create DF\n",
        "\n",
        "# there are blank character fields for missing data \n",
        "\n",
        "# read them as character fields intially \n",
        "\n"
      ]
    },
    {
      "cell_type": "code",
      "metadata": {
        "id": "dFe2r9VaWqkL",
        "colab_type": "code",
        "colab": {
          "base_uri": "https://localhost:8080/",
          "height": 163
        },
        "outputId": "a6993d1b-b08c-478e-d629-9cdff6ab9204"
      },
      "source": [
        "cell = pd.read_csv('CellSwitching.csv', sep = ',', header =0)\n",
        "print(cell.head())"
      ],
      "execution_count": 3,
      "outputs": [
        {
          "output_type": "stream",
          "text": [
            "   age          job  marital  education  ... months  devices poutcome bresponse\n",
            "0   30   unemployed  married    primary  ...     79        1  unknown         0\n",
            "1   33     services  married  secondary  ...    220        5  failure         0\n",
            "2   35   management   single   tertiary  ...    185        2  failure         0\n",
            "3   30   management  married   tertiary  ...    199        1  unknown         0\n",
            "4   59  blue-collar  married  secondary  ...    226        1  unknown         0\n",
            "\n",
            "[5 rows x 14 columns]\n"
          ],
          "name": "stdout"
        }
      ]
    },
    {
      "cell_type": "markdown",
      "metadata": {
        "id": "YPsrLlpbc7qr",
        "colab_type": "text"
      },
      "source": [
        "# Observations of the Data: \n",
        "\n",
        "Job Types: merge together \n",
        "Change Marital Status. \n",
        "Eliminate the Unknowns \n",
        "Add Missing Values\n",
        "\n",
        "# Directive \n",
        "\n",
        "create a dataframe named cell_work\n",
        "y = promotion package "
      ]
    },
    {
      "cell_type": "code",
      "metadata": {
        "id": "WgNejJAVxDBw",
        "colab_type": "code",
        "colab": {
          "base_uri": "https://localhost:8080/",
          "height": 163
        },
        "outputId": "12f8b3d1-f86d-4ee4-fa31-b8fe7fb82cf5"
      },
      "source": [
        "cell = pd.read_csv('CellSwitching.csv', sep = ',', header =0)\n",
        "print(cell.head())"
      ],
      "execution_count": 4,
      "outputs": [
        {
          "output_type": "stream",
          "text": [
            "   age          job  marital  education  ... months  devices poutcome bresponse\n",
            "0   30   unemployed  married    primary  ...     79        1  unknown         0\n",
            "1   33     services  married  secondary  ...    220        5  failure         0\n",
            "2   35   management   single   tertiary  ...    185        2  failure         0\n",
            "3   30   management  married   tertiary  ...    199        1  unknown         0\n",
            "4   59  blue-collar  married  secondary  ...    226        1  unknown         0\n",
            "\n",
            "[5 rows x 14 columns]\n"
          ],
          "name": "stdout"
        }
      ]
    },
    {
      "cell_type": "markdown",
      "metadata": {
        "id": "SGCE03Lp0KR0",
        "colab_type": "text"
      },
      "source": [
        "# OSEMN\n",
        " Above we have obtained the information needed from the dataset into a python dataframe. \n",
        "\n",
        " At this point we will need to scrub the data in order to be able to EXPLORE, MODEL, and iNtepret the data. "
      ]
    },
    {
      "cell_type": "code",
      "metadata": {
        "id": "hxREx5GeBYn1",
        "colab_type": "code",
        "colab": {
          "base_uri": "https://localhost:8080/",
          "height": 163
        },
        "outputId": "398f9e6c-0ba0-4526-8a04-81a01d461aea"
      },
      "source": [
        "  #define jobtype variable \n",
        "  job_to_jobtype = {'admin' :'White Collar',\\\n",
        "                    'entrepreneur' :'White Collar',\\\n",
        "                    'management' :'White Collar',\\\n",
        "                    'self-employed' :'White Collar',\\\n",
        "                    'blue-collar' :'Blue Collar',\\\n",
        "                    'services' :'Blue Collar',\\\n",
        "                    'technician' :'Blue Collar'}\n",
        "cell['jobtype'] = cell['job'].map(job_to_jobtype)\n",
        "cell['jobtype'] = cell['jobtype'].fillna('Other/Unknown')\n",
        "print(cell.head())\n"
      ],
      "execution_count": 5,
      "outputs": [
        {
          "output_type": "stream",
          "text": [
            "   age          job  marital  ... poutcome bresponse        jobtype\n",
            "0   30   unemployed  married  ...  unknown         0  Other/Unknown\n",
            "1   33     services  married  ...  failure         0    Blue Collar\n",
            "2   35   management   single  ...  failure         0   White Collar\n",
            "3   30   management  married  ...  unknown         0   White Collar\n",
            "4   59  blue-collar  married  ...  unknown         0    Blue Collar\n",
            "\n",
            "[5 rows x 15 columns]\n"
          ],
          "name": "stdout"
        }
      ]
    },
    {
      "cell_type": "code",
      "metadata": {
        "id": "3N-iBD_o5CrS",
        "colab_type": "code",
        "colab": {
          "base_uri": "https://localhost:8080/",
          "height": 181
        },
        "outputId": "246d7dbc-b528-43be-89d0-b00a40a0ad27"
      },
      "source": [
        "#set martial variable \n",
        "marital_to_label = {'divored' :'Divorced',\\\n",
        "                    'married' :'Married',\\\n",
        "                    'single' :'Single' }\n",
        "cell['marital'] = cell['marital'].map(marital_to_label)\n",
        "cell['marital'] = cell['marital'].fillna('Unknown')\n",
        "#Set Education variable \n",
        "education_to_label = {'primary' :'Primary',\\\n",
        "                      'secondary' :'Secondary',\\\n",
        "                      'tertiary' :'Teriary'}\n",
        "cell['education'] = cell['education'].map(education_to_label)\n",
        "cell['education'] = cell['education'].fillna('Unknown')\n",
        "\n",
        "#set no/yes variable labels\n",
        "noyes_to_label = {'no' :'No', 'yes' :'Yes'}\n",
        "cell['default'] =  cell['default'].map(noyes_to_label)\n",
        "cell['default'] = cell['default'].fillna('No')\n",
        "\n",
        "# code response as binary variable \n",
        "noyes_to_binary = {'No' :'0', 'Yes':'1'}\n",
        "cell['repairplan'] = cell['repairplan'].map(noyes_to_binary)\n",
        "cell['repairplan'] = cell['repairplan'].fillna('No')\n",
        "\n",
        "#work only with cell cleints who are being apprached for the fist time \n",
        "filter = cell['poutcome'].map(lambda d: d == 'unknown')\n",
        "\n",
        "# apply the filter and select columns needed for targeting model \n",
        "\n",
        "cellwork = pd.DataFrame(cell[filter], columns = ['bresponse','age','jobtype',\\\n",
        "                                                'education', 'marital', 'default', 'balance', 'rentown', 'repairplan', 'months', 'devices' ])\n",
        "print(cellwork.head())\n",
        "print(cellwork.shape)"
      ],
      "execution_count": 7,
      "outputs": [
        {
          "output_type": "stream",
          "text": [
            "   bresponse  age        jobtype education  ... rentown repairplan  months devices\n",
            "0          0   30  Other/Unknown   Unknown  ...    rent          0      79       1\n",
            "3          0   30   White Collar   Unknown  ...     own          0     199       1\n",
            "4          0   59    Blue Collar   Unknown  ...     own          0     226       1\n",
            "7          0   39    Blue Collar   Unknown  ...     own          0     151       1\n",
            "8          0   41   White Collar   Unknown  ...     own          0      57       1\n",
            "\n",
            "[5 rows x 11 columns]\n",
            "(3705, 11)\n"
          ],
          "name": "stdout"
        }
      ]
    },
    {
      "cell_type": "code",
      "metadata": {
        "id": "WBhTpVIn5C4Y",
        "colab_type": "code",
        "colab": {
          "base_uri": "https://localhost:8080/",
          "height": 459
        },
        "outputId": "809c015c-ea1d-4a6c-e9d8-9a895c032ac9"
      },
      "source": [
        "sns.jointplot(x=\"age\", y='bresponse', data=cellwork)"
      ],
      "execution_count": 8,
      "outputs": [
        {
          "output_type": "execute_result",
          "data": {
            "text/plain": [
              "<seaborn.axisgrid.JointGrid at 0x7f83672d0828>"
            ]
          },
          "metadata": {
            "tags": []
          },
          "execution_count": 8
        },
        {
          "output_type": "display_data",
          "data": {
            "image/png": "[encoded data removed]",
            "text/plain": [
              "<Figure size 432x432 with 3 Axes>"
            ]
          },
          "metadata": {
            "tags": [],
            "needs_background": "light"
          }
        }
      ]
    },
    {
      "cell_type": "code",
      "metadata": {
        "id": "uo3c_6Mn5C7L",
        "colab_type": "code",
        "colab": {
          "base_uri": "https://localhost:8080/",
          "height": 301
        },
        "outputId": "889bdf70-a021-4c57-887c-ff62ed3934ec"
      },
      "source": [
        "sns.distplot(cellwork['age'], kde=False, rug=True)"
      ],
      "execution_count": 9,
      "outputs": [
        {
          "output_type": "execute_result",
          "data": {
            "text/plain": [
              "<matplotlib.axes._subplots.AxesSubplot at 0x7f836486f278>"
            ]
          },
          "metadata": {
            "tags": []
          },
          "execution_count": 9
        },
        {
          "output_type": "display_data",
          "data": {
            "image/png": "[encoded data removed]",
            "text/plain": [
              "<Figure size 432x288 with 1 Axes>"
            ]
          },
          "metadata": {
            "tags": [],
            "needs_background": "light"
          }
        }
      ]
    },
    {
      "cell_type": "markdown",
      "metadata": {
        "id": "LhC9KmtREoUp",
        "colab_type": "text"
      },
      "source": [
        "#Notice that the primary target is late 20 early 40 but look at the age groups in the tail "
      ]
    },
    {
      "cell_type": "code",
      "metadata": {
        "id": "PbhG9N_U5C96",
        "colab_type": "code",
        "colab": {
          "base_uri": "https://localhost:8080/",
          "height": 300
        },
        "outputId": "eac096c5-da0c-40eb-c418-240cf0e4bfae"
      },
      "source": [
        "sns.boxplot(x='bresponse', y='age', data=cellwork)"
      ],
      "execution_count": 10,
      "outputs": [
        {
          "output_type": "execute_result",
          "data": {
            "text/plain": [
              "<matplotlib.axes._subplots.AxesSubplot at 0x7f83641942b0>"
            ]
          },
          "metadata": {
            "tags": []
          },
          "execution_count": 10
        },
        {
          "output_type": "display_data",
          "data": {
            "image/png": "[encoded data removed]",
            "text/plain": [
              "<Figure size 432x288 with 1 Axes>"
            ]
          },
          "metadata": {
            "tags": [],
            "needs_background": "light"
          }
        }
      ]
    },
    {
      "cell_type": "code",
      "metadata": {
        "id": "ttMPm0hBOxWM",
        "colab_type": "code",
        "colab": {
          "base_uri": "https://localhost:8080/",
          "height": 279
        },
        "outputId": "a767b5a2-9f43-4197-fbf4-4b8b12d09e94"
      },
      "source": [
        "ax = sns.countplot(y='bresponse', data=cellwork, hue ='age')\n",
        "ax.legend_.remove()"
      ],
      "execution_count": 11,
      "outputs": [
        {
          "output_type": "display_data",
          "data": {
            "image/png": "[encoded data removed]",
            "text/plain": [
              "<Figure size 432x288 with 1 Axes>"
            ]
          },
          "metadata": {
            "tags": [],
            "needs_background": "light"
          }
        }
      ]
    },
    {
      "cell_type": "markdown",
      "metadata": {
        "id": "J_wXUhB-PEB8",
        "colab_type": "text"
      },
      "source": [
        "# INTENSIVE PLOTS \n",
        "\n",
        "sns.swormplot and \n",
        "sns.violineplot \n",
        "advance plotting of the data  "
      ]
    },
    {
      "cell_type": "code",
      "metadata": {
        "id": "R8S0kANpOxfs",
        "colab_type": "code",
        "colab": {
          "base_uri": "https://localhost:8080/",
          "height": 297
        },
        "outputId": "2280ab82-89b0-4c75-9c4f-63f8a8f34c8a"
      },
      "source": [
        "sns.violinplot(x='bresponse', y='age', data=cellwork, inner=None)\n",
        "sns.swarmplot(x='bresponse', y='age', data=cellwork, color='b', alpha = 0.25)"
      ],
      "execution_count": 12,
      "outputs": [
        {
          "output_type": "execute_result",
          "data": {
            "text/plain": [
              "<matplotlib.axes._subplots.AxesSubplot at 0x7f8363e9e160>"
            ]
          },
          "metadata": {
            "tags": []
          },
          "execution_count": 12
        },
        {
          "output_type": "display_data",
          "data": {
            "image/png": "[encoded data removed]",
            "text/plain": [
              "<Figure size 432x288 with 1 Axes>"
            ]
          },
          "metadata": {
            "tags": [],
            "needs_background": "light"
          }
        }
      ]
    },
    {
      "cell_type": "code",
      "metadata": {
        "id": "ArmZGQx1Oxid",
        "colab_type": "code",
        "colab": {
          "base_uri": "https://localhost:8080/",
          "height": 279
        },
        "outputId": "6b00c5e9-2f09-49f1-d64d-fa45f59cd8d4"
      },
      "source": [
        "sns.countplot(y='bresponse', data=cellwork,\n",
        "              hue='jobtype')\n",
        "sns.xlabel=('Customer Count')\n",
        "sns.ylabel=('Customers who have switched')\n"
      ],
      "execution_count": 13,
      "outputs": [
        {
          "output_type": "display_data",
          "data": {
            "image/png": "[encoded data removed]",
            "text/plain": [
              "<Figure size 432x288 with 1 Axes>"
            ]
          },
          "metadata": {
            "tags": [],
            "needs_background": "light"
          }
        }
      ]
    },
    {
      "cell_type": "code",
      "metadata": {
        "id": "1nVFiFZAyOV3",
        "colab_type": "code",
        "colab": {
          "base_uri": "https://localhost:8080/",
          "height": 279
        },
        "outputId": "ff5c3ce7-1d09-4ea1-8fc2-b31c5ddd90f0"
      },
      "source": [
        "sns.countplot(y=\"bresponse\", data=cellwork,\n",
        "             hue=\"education\")\n",
        "sns.xlabel=(\"Customer Count\")\n",
        "sns.ylabel=(\"Customers who switch\")"
      ],
      "execution_count": 32,
      "outputs": [
        {
          "output_type": "display_data",
          "data": {
            "image/png": "[encoded data removed]",
            "text/plain": [
              "<Figure size 432x288 with 1 Axes>"
            ]
          },
          "metadata": {
            "tags": [],
            "needs_background": "light"
          }
        }
      ]
    },
    {
      "cell_type": "code",
      "metadata": {
        "id": "Os-MyBwyOxlE",
        "colab_type": "code",
        "colab": {
          "base_uri": "https://localhost:8080/",
          "height": 279
        },
        "outputId": "19bbe76e-4284-4858-ed5c-88a903b561ec"
      },
      "source": [
        "sns.countplot(y='bresponse', data=cellwork,\n",
        "              hue='education')\n",
        "sns.xlabel=('Customer Count')\n",
        "sns.ylabel=('Customers who switch')"
      ],
      "execution_count": 14,
      "outputs": [
        {
          "output_type": "display_data",
          "data": {
            "image/png": "[encoded data removed]",
            "text/plain": [
              "<Figure size 432x288 with 1 Axes>"
            ]
          },
          "metadata": {
            "tags": [],
            "needs_background": "light"
          }
        }
      ]
    },
    {
      "cell_type": "code",
      "metadata": {
        "id": "lzw1LSlOOxoI",
        "colab_type": "code",
        "colab": {
          "base_uri": "https://localhost:8080/",
          "height": 297
        },
        "outputId": "d3781591-d959-46bc-a306-9d405e4b8151"
      },
      "source": [
        "sns.countplot(y='bresponse', data=cellwork,\n",
        "              hue='rentown')"
      ],
      "execution_count": 15,
      "outputs": [
        {
          "output_type": "execute_result",
          "data": {
            "text/plain": [
              "<matplotlib.axes._subplots.AxesSubplot at 0x7f8363d530b8>"
            ]
          },
          "metadata": {
            "tags": []
          },
          "execution_count": 15
        },
        {
          "output_type": "display_data",
          "data": {
            "image/png": "[encoded data removed]",
            "text/plain": [
              "<Figure size 432x288 with 1 Axes>"
            ]
          },
          "metadata": {
            "tags": [],
            "needs_background": "light"
          }
        }
      ]
    },
    {
      "cell_type": "code",
      "metadata": {
        "id": "PmUmK_YSBIie",
        "colab_type": "code",
        "colab": {
          "base_uri": "https://localhost:8080/",
          "height": 279
        },
        "outputId": "e0b5a139-d91e-4b1d-9157-02e05e870a7c"
      },
      "source": [
        "#Another deviation between reponse ratios\n",
        "sns.countplot(y='bresponse', data=cellwork, \n",
        "              hue='rentown')\n",
        "sns.xlabel=('Customer Count')\n",
        "sns.ylabel=('Customers who switch')"
      ],
      "execution_count": 16,
      "outputs": [
        {
          "output_type": "display_data",
          "data": {
            "image/png": "[encoded data removed]",
            "text/plain": [
              "<Figure size 432x288 with 1 Axes>"
            ]
          },
          "metadata": {
            "tags": [],
            "needs_background": "light"
          }
        }
      ]
    },
    {
      "cell_type": "code",
      "metadata": {
        "id": "_xY0BjFNrlZQ",
        "colab_type": "code",
        "colab": {
          "base_uri": "https://localhost:8080/",
          "height": 279
        },
        "outputId": "e2c6646f-87a5-4294-d8be-5bf6b594e1e3"
      },
      "source": [
        "sns.countplot (y='bresponse', data=cellwork,\n",
        "               hue='education')\n",
        "sns.xlabel=('Customer Count')\n",
        "sns.label=('Customers who switch')"
      ],
      "execution_count": 31,
      "outputs": [
        {
          "output_type": "display_data",
          "data": {
            "image/png": "[encoded data removed]",
            "text/plain": [
              "<Figure size 432x288 with 1 Axes>"
            ]
          },
          "metadata": {
            "tags": [],
            "needs_background": "light"
          }
        }
      ]
    },
    {
      "cell_type": "code",
      "metadata": {
        "id": "wxn17YSUrlcy",
        "colab_type": "code",
        "colab": {}
      },
      "source": [
        ""
      ],
      "execution_count": null,
      "outputs": []
    },
    {
      "cell_type": "markdown",
      "metadata": {
        "id": "zZ-8_N1tyru9",
        "colab_type": "text"
      },
      "source": [
        "#END MODEL REVIEW \n",
        "\n",
        "# BEGINNING OF CODE REVIEW \n",
        "\n"
      ]
    },
    {
      "cell_type": "code",
      "metadata": {
        "id": "di7Rtj_wrlf4",
        "colab_type": "code",
        "colab": {
          "base_uri": "https://localhost:8080/",
          "height": 283
        },
        "outputId": "1bd3ef77-4742-4a8c-d164-3638f5fac22a"
      },
      "source": [
        "corr = cellwork.corr()\n",
        "\n",
        "#generate a mask for the upper triangle \n",
        "mask = np.zeros_like(corr, dtype=np.bool)\n",
        "mask[np.triu_indices_from(mask)] = True\n",
        "\n",
        "#generate a custom diverging colormap \n",
        "\n",
        "cmap = sns.diverging_palette(220, 10, as_cmap=True)\n",
        "\n",
        "#Draw the heatmap with the mask and correct aspect ration \n",
        "sns.heatmap(corr, mask=mask, cmap=cmap, vmax=.3, center=0, \n",
        "            square=True, linewidths=.5, cbar_kws={'shrink': .5}\n",
        "            )"
      ],
      "execution_count": 35,
      "outputs": [
        {
          "output_type": "execute_result",
          "data": {
            "text/plain": [
              "<matplotlib.axes._subplots.AxesSubplot at 0x7f834d688128>"
            ]
          },
          "metadata": {
            "tags": []
          },
          "execution_count": 35
        },
        {
          "output_type": "display_data",
          "data": {
            "image/png": "[encoded data removed]",
            "text/plain": [
              "<Figure size 432x288 with 2 Axes>"
            ]
          },
          "metadata": {
            "tags": [],
            "needs_background": "light"
          }
        }
      ]
    },
    {
      "cell_type": "code",
      "metadata": {
        "id": "ez7NMmADrljN",
        "colab_type": "code",
        "colab": {
          "base_uri": "https://localhost:8080/",
          "height": 303
        },
        "outputId": "fe4c6674-ebe1-4128-f607-9f772743d409"
      },
      "source": [
        "# Quick Scatter Plot to Look at the Relationship between variables\n",
        "\n",
        "sns.set(color_codes=True)\n",
        "sns.regplot(x='months', y='bresponse', data=cell, y_jitter=0.03)\n",
        "\n"
      ],
      "execution_count": 38,
      "outputs": [
        {
          "output_type": "execute_result",
          "data": {
            "text/plain": [
              "<matplotlib.axes._subplots.AxesSubplot at 0x7f834a65e9b0>"
            ]
          },
          "metadata": {
            "tags": []
          },
          "execution_count": 38
        },
        {
          "output_type": "display_data",
          "data": {
            "image/png": "[encoded data removed]",
            "text/plain": [
              "<Figure size 432x288 with 1 Axes>"
            ]
          },
          "metadata": {
            "tags": []
          }
        }
      ]
    },
    {
      "cell_type": "code",
      "metadata": {
        "id": "-_XpBOwKrlmk",
        "colab_type": "code",
        "colab": {
          "base_uri": "https://localhost:8080/",
          "height": 303
        },
        "outputId": "e2a27cc9-1270-4ead-a4f3-02c686db9cee"
      },
      "source": [
        "sns.regplot(x='age', y='bresponse', data=cell, y_jitter=0.03)\n"
      ],
      "execution_count": 39,
      "outputs": [
        {
          "output_type": "execute_result",
          "data": {
            "text/plain": [
              "<matplotlib.axes._subplots.AxesSubplot at 0x7f834a596be0>"
            ]
          },
          "metadata": {
            "tags": []
          },
          "execution_count": 39
        },
        {
          "output_type": "display_data",
          "data": {
            "image/png": "[encoded data removed]",
            "text/plain": [
              "<Figure size 432x288 with 1 Axes>"
            ]
          },
          "metadata": {
            "tags": []
          }
        }
      ]
    },
    {
      "cell_type": "code",
      "metadata": {
        "id": "Iri4a8Ntrlps",
        "colab_type": "code",
        "colab": {
          "base_uri": "https://localhost:8080/",
          "height": 303
        },
        "outputId": "01786bfa-9076-4db4-99cc-78438cf3b44f"
      },
      "source": [
        "# How might we look at account balance and response \n",
        "sns.regplot(x='balance', y='bresponse', data=cell, y_jitter=0.03)\n",
        "\n"
      ],
      "execution_count": 40,
      "outputs": [
        {
          "output_type": "execute_result",
          "data": {
            "text/plain": [
              "<matplotlib.axes._subplots.AxesSubplot at 0x7f834a55b518>"
            ]
          },
          "metadata": {
            "tags": []
          },
          "execution_count": 40
        },
        {
          "output_type": "display_data",
          "data": {
            "image/png": "[encoded data removed]",
            "text/plain": [
              "<Figure size 432x288 with 1 Axes>"
            ]
          },
          "metadata": {
            "tags": []
          }
        }
      ]
    },
    {
      "cell_type": "code",
      "metadata": {
        "id": "z8V-S8J_rls5",
        "colab_type": "code",
        "colab": {}
      },
      "source": [
        "#How might we look at rent to own verus response \n",
        "#sns.regplot(x='rentown', y='bresponse', data=cell, y_jitter=0.03)"
      ],
      "execution_count": 43,
      "outputs": []
    },
    {
      "cell_type": "code",
      "metadata": {
        "id": "ENz9-wRQrlwA",
        "colab_type": "code",
        "colab": {
          "base_uri": "https://localhost:8080/",
          "height": 399
        },
        "outputId": "e9b2c6f6-328d-4fd5-cc40-1477b478af6d"
      },
      "source": [
        "print(cellwork.describe())\n",
        "\n",
        "print(cell.pivot_table(['age'], index = ['bresponse']))\n",
        "print(cell.pivot_table(['devices'], index = ['bresponse']))\n",
        "print(cell.pivot_table(['months'], index = ['bresponse']))\n"
      ],
      "execution_count": 45,
      "outputs": [
        {
          "output_type": "stream",
          "text": [
            "         bresponse          age       balance       months  devices\n",
            "count  3705.000000  3705.000000   3705.000000  3705.000000   3705.0\n",
            "mean      0.090958    41.083671   1374.862078   262.103104      1.0\n",
            "std       0.287588    10.373818   3008.524207   262.937329      0.0\n",
            "min       0.000000    19.000000  -3313.000000     4.000000      1.0\n",
            "25%       0.000000    33.000000     60.000000   102.000000      1.0\n",
            "50%       0.000000    39.000000    415.000000   180.000000      1.0\n",
            "75%       0.000000    49.000000   1412.000000   327.000000      1.0\n",
            "max       1.000000    87.000000  71188.000000  3025.000000      1.0\n",
            "                 age\n",
            "bresponse           \n",
            "0          40.998000\n",
            "1          42.491363\n",
            "            devices\n",
            "bresponse          \n",
            "0          1.471250\n",
            "1          2.090211\n",
            "               months\n",
            "bresponse            \n",
            "0          226.347500\n",
            "1          552.742802\n"
          ],
          "name": "stdout"
        }
      ]
    },
    {
      "cell_type": "code",
      "metadata": {
        "id": "0CmNxB-Crlyp",
        "colab_type": "code",
        "colab": {
          "base_uri": "https://localhost:8080/",
          "height": 599
        },
        "outputId": "9d37d9db-b802-4a25-9857-bf782f070a89"
      },
      "source": [
        "# examine descriptive statistics and frequency tables for variables in model \n",
        "print(cellwork.describe())\n",
        "print('\\njobtype:\\n', cellwork['jobtype'].value_counts())\n",
        "print('\\nmaritial: \\n', cellwork['marital'].value_counts())\n",
        "print('\\neducation: \\n', cellwork['education'].value_counts())\n",
        "print('\\ndefault: \\n', cellwork['default'].value_counts())\n",
        "print('\\nhousing: \\n', cellwork['rentown'].value_counts())"
      ],
      "execution_count": 46,
      "outputs": [
        {
          "output_type": "stream",
          "text": [
            "         bresponse          age       balance       months  devices\n",
            "count  3705.000000  3705.000000   3705.000000  3705.000000   3705.0\n",
            "mean      0.090958    41.083671   1374.862078   262.103104      1.0\n",
            "std       0.287588    10.373818   3008.524207   262.937329      0.0\n",
            "min       0.000000    19.000000  -3313.000000     4.000000      1.0\n",
            "25%       0.000000    33.000000     60.000000   102.000000      1.0\n",
            "50%       0.000000    39.000000    415.000000   180.000000      1.0\n",
            "75%       0.000000    49.000000   1412.000000   327.000000      1.0\n",
            "max       1.000000    87.000000  71188.000000  3025.000000      1.0\n",
            "\n",
            "jobtype:\n",
            " Blue Collar      1776\n",
            "White Collar     1083\n",
            "Other/Unknown     846\n",
            "Name: jobtype, dtype: int64\n",
            "\n",
            "maritial: \n",
            " Unknown    3705\n",
            "Name: marital, dtype: int64\n",
            "\n",
            "education: \n",
            " Unknown    3705\n",
            "Name: education, dtype: int64\n",
            "\n",
            "default: \n",
            " No    3705\n",
            "Name: default, dtype: int64\n",
            "\n",
            "housing: \n",
            " own     2043\n",
            "rent    1662\n",
            "Name: rentown, dtype: int64\n"
          ],
          "name": "stdout"
        }
      ]
    },
    {
      "cell_type": "code",
      "metadata": {
        "id": "9ZiCoDe_2jXv",
        "colab_type": "code",
        "colab": {
          "base_uri": "https://localhost:8080/",
          "height": 163
        },
        "outputId": "a3cf56bc-28c8-4c2d-8cb4-19fc28bb5fd9"
      },
      "source": [
        "#examine means of continuous explanatory variables by response\n",
        "print(cellwork.pivot_table(['age'], index = ['bresponse']))\n",
        "print(cellwork.pivot_table(['balance'], index = ['bresponse']))"
      ],
      "execution_count": 49,
      "outputs": [
        {
          "output_type": "stream",
          "text": [
            "                 age\n",
            "bresponse           \n",
            "0          40.983076\n",
            "1          42.089021\n",
            "               balance\n",
            "bresponse             \n",
            "0          1359.654097\n",
            "1          1526.851632\n"
          ],
          "name": "stdout"
        }
      ]
    },
    {
      "cell_type": "code",
      "metadata": {
        "id": "mwVYJq-H2jaW",
        "colab_type": "code",
        "colab": {
          "base_uri": "https://localhost:8080/",
          "height": 72
        },
        "outputId": "14e3be51-b1e0-48c3-934e-68cba2a0a269"
      },
      "source": [
        "#baseline response rate computed (this will be utilized later)\n",
        "filter_took_offer = cellwork['bresponse'].map(lambda d: d == 1)\n",
        "baseline_response_rate = len(cellwork[filter_took_offer]) / len(cellwork)\n",
        "print('\\nBaseline proportion of clients responding to offer: ',\\\n",
        "      round(baseline_response_rate, 5), '\\n')"
      ],
      "execution_count": 51,
      "outputs": [
        {
          "output_type": "stream",
          "text": [
            "\n",
            "Baseline proportion of clients responding to offer:  0.09096 \n",
            "\n"
          ],
          "name": "stdout"
        }
      ]
    },
    {
      "cell_type": "code",
      "metadata": {
        "id": "iq9yJD3t4Qmj",
        "colab_type": "code",
        "colab": {
          "base_uri": "https://localhost:8080/",
          "height": 345
        },
        "outputId": "f5275cc9-1175-4459-d41e-c52cd6ea18a9"
      },
      "source": [
        "#examine proportion responding across levels of categorical variables \n",
        "print(cellwork.pivot_table(['bresponse'], index = ['jobtype']))\n",
        "print(cellwork.pivot_table(['bresponse'], index = ['education']))\n",
        "print(cellwork.pivot_table(['bresponse'], index = ['marital']))\n",
        "print(cellwork.pivot_table(['bresponse'], index = ['default']))\n",
        "print(cellwork.pivot_table(['bresponse'], index = ['rentown']))"
      ],
      "execution_count": 52,
      "outputs": [
        {
          "output_type": "stream",
          "text": [
            "               bresponse\n",
            "jobtype                 \n",
            "Blue Collar     0.072072\n",
            "Other/Unknown   0.118203\n",
            "White Collar    0.100646\n",
            "           bresponse\n",
            "education           \n",
            "Unknown     0.090958\n",
            "         bresponse\n",
            "marital           \n",
            "Unknown   0.090958\n",
            "         bresponse\n",
            "default           \n",
            "No        0.090958\n",
            "         bresponse\n",
            "rentown           \n",
            "own       0.069995\n",
            "rent      0.116727\n"
          ],
          "name": "stdout"
        }
      ]
    },
    {
      "cell_type": "markdown",
      "metadata": {
        "id": "CbmVGjPT71eu",
        "colab_type": "text"
      },
      "source": [
        "# LOGIT MODEL FOR SWITCH\n",
        "\n"
      ]
    },
    {
      "cell_type": "code",
      "metadata": {
        "id": "1_9YV-je2jdQ",
        "colab_type": "code",
        "colab": {
          "base_uri": "https://localhost:8080/",
          "height": 417
        },
        "outputId": "d446fe73-8880-402a-a2c4-85efae585688"
      },
      "source": [
        "# specitfy model for logistic regression \n",
        "cell = 'bresponse ~ age + jobtype + education + marital +\\\n",
        "     default + balance + rentown'\n",
        "\n",
        "#step 2\n",
        "#----------------------------------------------------\n",
        "# fit logistic regression model \n",
        "#----------------------------------------------------\n",
        "#convert R-like formula into design matrix neded for statsmodels\n",
        "y,x = patsy.dmatrices(cell, cellwork, return_type = 'dataframe')\n",
        "\n",
        "my_logit_model = sm.Logit(y,x)\n",
        "#Now, fit the model to the full data set \n",
        "my_logit_model_fit = my_logit_model.fit()\n",
        "print(my_logit_model_fit.summary())\n",
        "\n",
        "#Last Now predict the probability of responding to the offer \n",
        "cellwork['pred_logit_prob'] = my_logit_model_fit.predict(linear = False) "
      ],
      "execution_count": 54,
      "outputs": [
        {
          "output_type": "stream",
          "text": [
            "Optimization terminated successfully.\n",
            "         Current function value: 0.300029\n",
            "         Iterations 7\n",
            "                           Logit Regression Results                           \n",
            "==============================================================================\n",
            "Dep. Variable:              bresponse   No. Observations:                 3705\n",
            "Model:                          Logit   Df Residuals:                     3699\n",
            "Method:                           MLE   Df Model:                            5\n",
            "Date:                Thu, 16 Jul 2020   Pseudo R-squ.:                 0.01549\n",
            "Time:                        18:48:26   Log-Likelihood:                -1111.6\n",
            "converged:                       True   LL-Null:                       -1129.1\n",
            "Covariance Type:            nonrobust   LLR p-value:                 1.521e-06\n",
            "============================================================================================\n",
            "                               coef    std err          z      P>|z|      [0.025      0.975]\n",
            "--------------------------------------------------------------------------------------------\n",
            "Intercept                   -2.8489      0.234    -12.168      0.000      -3.308      -2.390\n",
            "jobtype[T.Other/Unknown]     0.4345      0.145      2.997      0.003       0.150       0.719\n",
            "jobtype[T.White Collar]      0.2884      0.138      2.088      0.037       0.018       0.559\n",
            "rentown[T.rent]              0.4882      0.119      4.097      0.000       0.255       0.722\n",
            "age                          0.0021      0.005      0.389      0.697      -0.009       0.013\n",
            "balance                    7.52e-06   1.68e-05      0.447      0.655   -2.55e-05    4.05e-05\n",
            "============================================================================================\n"
          ],
          "name": "stdout"
        }
      ]
    },
    {
      "cell_type": "code",
      "metadata": {
        "id": "qbLzOx2C76Is",
        "colab_type": "code",
        "colab": {}
      },
      "source": [
        ""
      ],
      "execution_count": null,
      "outputs": []
    },
    {
      "cell_type": "markdown",
      "metadata": {
        "id": "2SsQIsVu9wc5",
        "colab_type": "text"
      },
      "source": [
        "# End Code Review \n"
      ]
    },
    {
      "cell_type": "code",
      "metadata": {
        "id": "W92j9-X52jgF",
        "colab_type": "code",
        "colab": {}
      },
      "source": [
        "# map target from probabilty cuttoff specified\n",
        "def prob_to_pred(x, cutoff):\n",
        "  if(x > cutoff):\n",
        "    return(1)\n",
        "  else:\n",
        "    return(0)\n"
      ],
      "execution_count": 58,
      "outputs": []
    },
    {
      "cell_type": "code",
      "metadata": {
        "id": "bf8f0_572jit",
        "colab_type": "code",
        "colab": {
          "base_uri": "https://localhost:8080/",
          "height": 505
        },
        "outputId": "61ae58b3-10e1-4be2-ef3f-dcfdff774856"
      },
      "source": [
        "# try cutoff set at 0.10\n",
        "cellwork['pred_logit_10'] =\\\n",
        "    cellwork['pred_logit_prob'].\\\n",
        "    apply(lambda d: prob_to_pred(d, cutoff = 0.10))    \n",
        "print('\\nConfusion matrix for 0.10 cutoff\\n',\\\n",
        "    pd.crosstab(cellwork.pred_logit_10, cellwork.bresponse, margins = True)) \n",
        "\n",
        "print('\\n Logistic Regression Performance (0.10 cutoff)\\n',\\\n",
        "    'Percentage of Targets Correctly Classified:',\\\n",
        "    100 * round(eval.evaluate_classifier(cellwork['pred_logit_10'],\\\n",
        "    cellwork['bresponse'])[4], 3),'\\n')"
      ],
      "execution_count": 62,
      "outputs": [
        {
          "output_type": "stream",
          "text": [
            "\n",
            "Confusion matrix for 0.10 cutoff\n",
            " bresponse         0    1   All\n",
            "pred_logit_10                 \n",
            "0              2465  200  2665\n",
            "1               903  137  1040\n",
            "All            3368  337  3705\n"
          ],
          "name": "stdout"
        },
        {
          "output_type": "error",
          "ename": "AttributeError",
          "evalue": "ignored",
          "traceback": [
            "\u001b[0;31m---------------------------------------------------------------------------\u001b[0m",
            "\u001b[0;31mAttributeError\u001b[0m                            Traceback (most recent call last)",
            "\u001b[0;32m<ipython-input-62-8f9034e43a44>\u001b[0m in \u001b[0;36m<module>\u001b[0;34m()\u001b[0m\n\u001b[1;32m      3\u001b[0m \u001b[0mprint\u001b[0m\u001b[0;34m(\u001b[0m\u001b[0;34m'\\nConfusion matrix for 0.10 cutoff\\n'\u001b[0m\u001b[0;34m,\u001b[0m    \u001b[0mpd\u001b[0m\u001b[0;34m.\u001b[0m\u001b[0mcrosstab\u001b[0m\u001b[0;34m(\u001b[0m\u001b[0mcellwork\u001b[0m\u001b[0;34m.\u001b[0m\u001b[0mpred_logit_10\u001b[0m\u001b[0;34m,\u001b[0m \u001b[0mcellwork\u001b[0m\u001b[0;34m.\u001b[0m\u001b[0mbresponse\u001b[0m\u001b[0;34m,\u001b[0m \u001b[0mmargins\u001b[0m \u001b[0;34m=\u001b[0m \u001b[0;32mTrue\u001b[0m\u001b[0;34m)\u001b[0m\u001b[0;34m)\u001b[0m\u001b[0;34m\u001b[0m\u001b[0;34m\u001b[0m\u001b[0m\n\u001b[1;32m      4\u001b[0m \u001b[0;34m\u001b[0m\u001b[0m\n\u001b[0;32m----> 5\u001b[0;31m \u001b[0mprint\u001b[0m\u001b[0;34m(\u001b[0m\u001b[0;34m'\\n Logistic Regression Performance (0.10 cutoff)\\n'\u001b[0m\u001b[0;34m,\u001b[0m    \u001b[0;34m'Percentage of Targets Correctly Classified:'\u001b[0m\u001b[0;34m,\u001b[0m    \u001b[0;36m100\u001b[0m \u001b[0;34m*\u001b[0m \u001b[0mround\u001b[0m\u001b[0;34m(\u001b[0m\u001b[0meval\u001b[0m\u001b[0;34m.\u001b[0m\u001b[0mevaluate_classifier\u001b[0m\u001b[0;34m(\u001b[0m\u001b[0mcellwork\u001b[0m\u001b[0;34m[\u001b[0m\u001b[0;34m'pred_logit_10'\u001b[0m\u001b[0;34m]\u001b[0m\u001b[0;34m,\u001b[0m    \u001b[0mcellwork\u001b[0m\u001b[0;34m[\u001b[0m\u001b[0;34m'bresponse'\u001b[0m\u001b[0;34m]\u001b[0m\u001b[0;34m)\u001b[0m\u001b[0;34m[\u001b[0m\u001b[0;36m4\u001b[0m\u001b[0;34m]\u001b[0m\u001b[0;34m,\u001b[0m \u001b[0;36m3\u001b[0m\u001b[0;34m)\u001b[0m\u001b[0;34m,\u001b[0m\u001b[0;34m'\\n'\u001b[0m\u001b[0;34m)\u001b[0m\u001b[0;34m\u001b[0m\u001b[0;34m\u001b[0m\u001b[0m\n\u001b[0m",
            "\u001b[0;32m/content/evaluate_classifier.py\u001b[0m in \u001b[0;36mevaluate_classifier\u001b[0;34m(predicted, observed)\u001b[0m\n\u001b[1;32m     23\u001b[0m     cmat = pd.crosstab(input_data_frame['predicted'],\\\n\u001b[1;32m     24\u001b[0m         input_data_frame['observed']) \n\u001b[0;32m---> 25\u001b[0;31m     \u001b[0ma\u001b[0m \u001b[0;34m=\u001b[0m \u001b[0mfloat\u001b[0m\u001b[0;34m(\u001b[0m\u001b[0mcmat\u001b[0m\u001b[0;34m.\u001b[0m\u001b[0mix\u001b[0m\u001b[0;34m[\u001b[0m\u001b[0;36m0\u001b[0m\u001b[0;34m,\u001b[0m\u001b[0;36m0\u001b[0m\u001b[0;34m]\u001b[0m\u001b[0;34m)\u001b[0m\u001b[0;34m\u001b[0m\u001b[0;34m\u001b[0m\u001b[0m\n\u001b[0m\u001b[1;32m     26\u001b[0m     \u001b[0mb\u001b[0m \u001b[0;34m=\u001b[0m \u001b[0mfloat\u001b[0m\u001b[0;34m(\u001b[0m\u001b[0mcmat\u001b[0m\u001b[0;34m.\u001b[0m\u001b[0mix\u001b[0m\u001b[0;34m[\u001b[0m\u001b[0;36m0\u001b[0m\u001b[0;34m,\u001b[0m\u001b[0;36m1\u001b[0m\u001b[0;34m]\u001b[0m\u001b[0;34m)\u001b[0m\u001b[0;34m\u001b[0m\u001b[0;34m\u001b[0m\u001b[0m\n\u001b[1;32m     27\u001b[0m     \u001b[0mc\u001b[0m \u001b[0;34m=\u001b[0m \u001b[0mfloat\u001b[0m\u001b[0;34m(\u001b[0m\u001b[0mcmat\u001b[0m\u001b[0;34m.\u001b[0m\u001b[0mix\u001b[0m\u001b[0;34m[\u001b[0m\u001b[0;36m1\u001b[0m\u001b[0;34m,\u001b[0m\u001b[0;36m0\u001b[0m\u001b[0;34m]\u001b[0m\u001b[0;34m)\u001b[0m\u001b[0;34m\u001b[0m\u001b[0;34m\u001b[0m\u001b[0m\n",
            "\u001b[0;32m/usr/local/lib/python3.6/dist-packages/pandas/core/generic.py\u001b[0m in \u001b[0;36m__getattr__\u001b[0;34m(self, name)\u001b[0m\n\u001b[1;32m   5272\u001b[0m             \u001b[0;32mif\u001b[0m \u001b[0mself\u001b[0m\u001b[0;34m.\u001b[0m\u001b[0m_info_axis\u001b[0m\u001b[0;34m.\u001b[0m\u001b[0m_can_hold_identifiers_and_holds_name\u001b[0m\u001b[0;34m(\u001b[0m\u001b[0mname\u001b[0m\u001b[0;34m)\u001b[0m\u001b[0;34m:\u001b[0m\u001b[0;34m\u001b[0m\u001b[0;34m\u001b[0m\u001b[0m\n\u001b[1;32m   5273\u001b[0m                 \u001b[0;32mreturn\u001b[0m \u001b[0mself\u001b[0m\u001b[0;34m[\u001b[0m\u001b[0mname\u001b[0m\u001b[0;34m]\u001b[0m\u001b[0;34m\u001b[0m\u001b[0;34m\u001b[0m\u001b[0m\n\u001b[0;32m-> 5274\u001b[0;31m             \u001b[0;32mreturn\u001b[0m \u001b[0mobject\u001b[0m\u001b[0;34m.\u001b[0m\u001b[0m__getattribute__\u001b[0m\u001b[0;34m(\u001b[0m\u001b[0mself\u001b[0m\u001b[0;34m,\u001b[0m \u001b[0mname\u001b[0m\u001b[0;34m)\u001b[0m\u001b[0;34m\u001b[0m\u001b[0;34m\u001b[0m\u001b[0m\n\u001b[0m\u001b[1;32m   5275\u001b[0m \u001b[0;34m\u001b[0m\u001b[0m\n\u001b[1;32m   5276\u001b[0m     \u001b[0;32mdef\u001b[0m \u001b[0m__setattr__\u001b[0m\u001b[0;34m(\u001b[0m\u001b[0mself\u001b[0m\u001b[0;34m,\u001b[0m \u001b[0mname\u001b[0m\u001b[0;34m:\u001b[0m \u001b[0mstr\u001b[0m\u001b[0;34m,\u001b[0m \u001b[0mvalue\u001b[0m\u001b[0;34m)\u001b[0m \u001b[0;34m->\u001b[0m \u001b[0;32mNone\u001b[0m\u001b[0;34m:\u001b[0m\u001b[0;34m\u001b[0m\u001b[0;34m\u001b[0m\u001b[0m\n",
            "\u001b[0;31mAttributeError\u001b[0m: 'DataFrame' object has no attribute 'ix'"
          ]
        }
      ]
    },
    {
      "cell_type": "code",
      "metadata": {
        "id": "QpTPVH9G2jla",
        "colab_type": "code",
        "colab": {}
      },
      "source": [
        "decile_label = []\n",
        "for i in range(10):\n",
        "  decile_label.append('Decile_' +str(10 - i))\n",
        "  #draws on baseline response rate computed earlier \n",
        "  def lift(x):\n",
        "    return(x / baseline_response_rate)"
      ],
      "execution_count": 63,
      "outputs": []
    },
    {
      "cell_type": "code",
      "metadata": {
        "id": "_jBUG5Hk2joI",
        "colab_type": "code",
        "colab": {
          "base_uri": "https://localhost:8080/",
          "height": 508
        },
        "outputId": "92832f30-9068-4468-b75b-272eb9fd19d8"
      },
      "source": [
        "prediction_deciles = pd.qcut(cellwork.pred_logit_prob, 10, labels = decile_label)\n",
        "decile_groups = cellwork.bresponse.groupby(prediction_deciles)\n",
        "print(decile_groups.mean())\n",
        "lift_values = decile_groups.mean() /baseline_response_rate\n",
        "print('\\nLift Chart Values by Decile: \\n', lift_values, '\\n')\n"
      ],
      "execution_count": 65,
      "outputs": [
        {
          "output_type": "stream",
          "text": [
            "pred_logit_prob\n",
            "Decile_10    0.070081\n",
            "Decile_9     0.059459\n",
            "Decile_8     0.051213\n",
            "Decile_7     0.089189\n",
            "Decile_6     0.072776\n",
            "Decile_5     0.100000\n",
            "Decile_4     0.083784\n",
            "Decile_3     0.099730\n",
            "Decile_2     0.129730\n",
            "Decile_1     0.153639\n",
            "Name: bresponse, dtype: float64\n",
            "\n",
            "Lift Chart Values by Decile: \n",
            " pred_logit_prob\n",
            "Decile_10    0.770474\n",
            "Decile_9     0.653701\n",
            "Decile_8     0.563038\n",
            "Decile_7     0.980552\n",
            "Decile_6     0.800107\n",
            "Decile_5     1.099407\n",
            "Decile_4     0.921124\n",
            "Decile_3     1.096443\n",
            "Decile_2     1.426257\n",
            "Decile_1     1.689115\n",
            "Name: bresponse, dtype: float64 \n",
            "\n"
          ],
          "name": "stdout"
        }
      ]
    },
    {
      "cell_type": "code",
      "metadata": {
        "id": "zGTzGKavDjHI",
        "colab_type": "code",
        "colab": {
          "base_uri": "https://localhost:8080/",
          "height": 317
        },
        "outputId": "46748297-94bd-4414-d0e7-3c25723fd6d9"
      },
      "source": [
        "#apply filter and select columns needed for targeting model \n",
        "switchcell = pd.DataFrame(cell)\n"
      ],
      "execution_count": 66,
      "outputs": [
        {
          "output_type": "error",
          "ename": "ValueError",
          "evalue": "ignored",
          "traceback": [
            "\u001b[0;31m---------------------------------------------------------------------------\u001b[0m",
            "\u001b[0;31mValueError\u001b[0m                                Traceback (most recent call last)",
            "\u001b[0;32m<ipython-input-66-021ffe43f888>\u001b[0m in \u001b[0;36m<module>\u001b[0;34m()\u001b[0m\n\u001b[1;32m      1\u001b[0m \u001b[0;31m#apply filter and select columns needed for targeting model\u001b[0m\u001b[0;34m\u001b[0m\u001b[0;34m\u001b[0m\u001b[0;34m\u001b[0m\u001b[0m\n\u001b[0;32m----> 2\u001b[0;31m \u001b[0mswitchcell\u001b[0m \u001b[0;34m=\u001b[0m \u001b[0mpd\u001b[0m\u001b[0;34m.\u001b[0m\u001b[0mDataFrame\u001b[0m\u001b[0;34m(\u001b[0m\u001b[0mcell\u001b[0m\u001b[0;34m)\u001b[0m\u001b[0;34m\u001b[0m\u001b[0;34m\u001b[0m\u001b[0m\n\u001b[0m",
            "\u001b[0;32m/usr/local/lib/python3.6/dist-packages/pandas/core/frame.py\u001b[0m in \u001b[0;36m__init__\u001b[0;34m(self, data, index, columns, dtype, copy)\u001b[0m\n\u001b[1;32m    507\u001b[0m                 )\n\u001b[1;32m    508\u001b[0m             \u001b[0;32melse\u001b[0m\u001b[0;34m:\u001b[0m\u001b[0;34m\u001b[0m\u001b[0;34m\u001b[0m\u001b[0m\n\u001b[0;32m--> 509\u001b[0;31m                 \u001b[0;32mraise\u001b[0m \u001b[0mValueError\u001b[0m\u001b[0;34m(\u001b[0m\u001b[0;34m\"DataFrame constructor not properly called!\"\u001b[0m\u001b[0;34m)\u001b[0m\u001b[0;34m\u001b[0m\u001b[0;34m\u001b[0m\u001b[0m\n\u001b[0m\u001b[1;32m    510\u001b[0m \u001b[0;34m\u001b[0m\u001b[0m\n\u001b[1;32m    511\u001b[0m         \u001b[0mNDFrame\u001b[0m\u001b[0;34m.\u001b[0m\u001b[0m__init__\u001b[0m\u001b[0;34m(\u001b[0m\u001b[0mself\u001b[0m\u001b[0;34m,\u001b[0m \u001b[0mmgr\u001b[0m\u001b[0;34m,\u001b[0m \u001b[0mfastpath\u001b[0m\u001b[0;34m=\u001b[0m\u001b[0;32mTrue\u001b[0m\u001b[0;34m)\u001b[0m\u001b[0;34m\u001b[0m\u001b[0;34m\u001b[0m\u001b[0m\n",
            "\u001b[0;31mValueError\u001b[0m: DataFrame constructor not properly called!"
          ]
        }
      ]
    },
    {
      "cell_type": "code",
      "metadata": {
        "id": "SWrt6zLIDjWm",
        "colab_type": "code",
        "colab": {}
      },
      "source": [
        ""
      ],
      "execution_count": null,
      "outputs": []
    },
    {
      "cell_type": "code",
      "metadata": {
        "id": "UQ70aBTjDjd7",
        "colab_type": "code",
        "colab": {}
      },
      "source": [
        ""
      ],
      "execution_count": null,
      "outputs": []
    },
    {
      "cell_type": "code",
      "metadata": {
        "id": "CtVT0pgBDjj5",
        "colab_type": "code",
        "colab": {}
      },
      "source": [
        ""
      ],
      "execution_count": null,
      "outputs": []
    },
    {
      "cell_type": "markdown",
      "metadata": {
        "id": "G1O5hEbhBj3c",
        "colab_type": "text"
      },
      "source": [
        "# Model Market Basket Analysis - Association rules in python \n",
        "\n",
        "import pandas as pd\n",
        "#following package best imported and installed via conda prompt \n",
        "#conda install -c cond-forge mixtend\n",
        "\n",
        "from mlxtend.frequent_patterns import apriori\n",
        "from mlxtend.frequent_patterns import association_rules\n"
      ]
    },
    {
      "cell_type": "code",
      "metadata": {
        "id": "JWhIHwY7Cvsm",
        "colab_type": "code",
        "colab": {}
      },
      "source": [
        "import pandas as pd\n",
        "from mlxtend.frequent_patterns import apriori\n",
        "from mlxtend.frequent_patterns import association_rules\n",
        "\n",
        "import seaborn as sns \n",
        "import matplotlib.pyplot as plt\n"
      ],
      "execution_count": 68,
      "outputs": []
    },
    {
      "cell_type": "markdown",
      "metadata": {
        "id": "O5JHxmwwDGy4",
        "colab_type": "text"
      },
      "source": [
        "# Obtain data from UCI machaine learning archive \n"
      ]
    },
    {
      "cell_type": "code",
      "metadata": {
        "id": "mbntl66kBImC",
        "colab_type": "code",
        "colab": {
          "base_uri": "https://localhost:8080/",
          "height": 206
        },
        "outputId": "2a0708a7-7097-4bf9-cce1-b11fdddf00b5"
      },
      "source": [
        "df = pd.read_excel('http://archive.ics.uci.edu/ml/machine-learning-databases/00352/Online%20Retail.xlsx')\n",
        "df.head()"
      ],
      "execution_count": 69,
      "outputs": [
        {
          "output_type": "execute_result",
          "data": {
            "text/html": [
              "<div>\n",
              "<style scoped>\n",
              "    .dataframe tbody tr th:only-of-type {\n",
              "        vertical-align: middle;\n",
              "    }\n",
              "\n",
              "    .dataframe tbody tr th {\n",
              "        vertical-align: top;\n",
              "    }\n",
              "\n",
              "    .dataframe thead th {\n",
              "        text-align: right;\n",
              "    }\n",
              "</style>\n",
              "<table border=\"1\" class=\"dataframe\">\n",
              "  <thead>\n",
              "    <tr style=\"text-align: right;\">\n",
              "      <th></th>\n",
              "      <th>InvoiceNo</th>\n",
              "      <th>StockCode</th>\n",
              "      <th>Description</th>\n",
              "      <th>Quantity</th>\n",
              "      <th>InvoiceDate</th>\n",
              "      <th>UnitPrice</th>\n",
              "      <th>CustomerID</th>\n",
              "      <th>Country</th>\n",
              "    </tr>\n",
              "  </thead>\n",
              "  <tbody>\n",
              "    <tr>\n",
              "      <th>0</th>\n",
              "      <td>536365</td>\n",
              "      <td>85123A</td>\n",
              "      <td>WHITE HANGING HEART T-LIGHT HOLDER</td>\n",
              "      <td>6</td>\n",
              "      <td>2010-12-01 08:26:00</td>\n",
              "      <td>2.55</td>\n",
              "      <td>17850.0</td>\n",
              "      <td>United Kingdom</td>\n",
              "    </tr>\n",
              "    <tr>\n",
              "      <th>1</th>\n",
              "      <td>536365</td>\n",
              "      <td>71053</td>\n",
              "      <td>WHITE METAL LANTERN</td>\n",
              "      <td>6</td>\n",
              "      <td>2010-12-01 08:26:00</td>\n",
              "      <td>3.39</td>\n",
              "      <td>17850.0</td>\n",
              "      <td>United Kingdom</td>\n",
              "    </tr>\n",
              "    <tr>\n",
              "      <th>2</th>\n",
              "      <td>536365</td>\n",
              "      <td>84406B</td>\n",
              "      <td>CREAM CUPID HEARTS COAT HANGER</td>\n",
              "      <td>8</td>\n",
              "      <td>2010-12-01 08:26:00</td>\n",
              "      <td>2.75</td>\n",
              "      <td>17850.0</td>\n",
              "      <td>United Kingdom</td>\n",
              "    </tr>\n",
              "    <tr>\n",
              "      <th>3</th>\n",
              "      <td>536365</td>\n",
              "      <td>84029G</td>\n",
              "      <td>KNITTED UNION FLAG HOT WATER BOTTLE</td>\n",
              "      <td>6</td>\n",
              "      <td>2010-12-01 08:26:00</td>\n",
              "      <td>3.39</td>\n",
              "      <td>17850.0</td>\n",
              "      <td>United Kingdom</td>\n",
              "    </tr>\n",
              "    <tr>\n",
              "      <th>4</th>\n",
              "      <td>536365</td>\n",
              "      <td>84029E</td>\n",
              "      <td>RED WOOLLY HOTTIE WHITE HEART.</td>\n",
              "      <td>6</td>\n",
              "      <td>2010-12-01 08:26:00</td>\n",
              "      <td>3.39</td>\n",
              "      <td>17850.0</td>\n",
              "      <td>United Kingdom</td>\n",
              "    </tr>\n",
              "  </tbody>\n",
              "</table>\n",
              "</div>"
            ],
            "text/plain": [
              "  InvoiceNo StockCode  ... CustomerID         Country\n",
              "0    536365    85123A  ...    17850.0  United Kingdom\n",
              "1    536365     71053  ...    17850.0  United Kingdom\n",
              "2    536365    84406B  ...    17850.0  United Kingdom\n",
              "3    536365    84029G  ...    17850.0  United Kingdom\n",
              "4    536365    84029E  ...    17850.0  United Kingdom\n",
              "\n",
              "[5 rows x 8 columns]"
            ]
          },
          "metadata": {
            "tags": []
          },
          "execution_count": 69
        }
      ]
    },
    {
      "cell_type": "code",
      "metadata": {
        "id": "UcoQ34qZBI2m",
        "colab_type": "code",
        "colab": {}
      },
      "source": [
        "# Scrub the data with some minor transformations \n",
        "\n",
        "df['Description'] = df['Description'].str.strip()\n",
        "df.dropna(axis=0, subset=['InvoiceNo'], inplace=True)\n",
        "df['InvoiceNo'] = df['InvoiceNo'].astype('str')\n",
        "df = df[~df['InvoiceNo'].str.contains('C')]\n"
      ],
      "execution_count": 70,
      "outputs": []
    },
    {
      "cell_type": "code",
      "metadata": {
        "id": "D9uKu_RCEbOZ",
        "colab_type": "code",
        "colab": {
          "base_uri": "https://localhost:8080/",
          "height": 304
        },
        "outputId": "efb01af9-3a0a-43de-9905-cc48d9eb78b9"
      },
      "source": [
        "#EXPLORE data with some visuals\n",
        "\n",
        "#BARPLOT SHOWING NUMBER ORDERS PER COUNTRY \n",
        "sns.countplot( y='Country', data=df, palette='Blues_d')\n"
      ],
      "execution_count": 71,
      "outputs": [
        {
          "output_type": "execute_result",
          "data": {
            "text/plain": [
              "<matplotlib.axes._subplots.AxesSubplot at 0x7f8343ca0dd8>"
            ]
          },
          "metadata": {
            "tags": []
          },
          "execution_count": 71
        },
        {
          "output_type": "display_data",
          "data": {
            "image/png": "[encoded data removed]",
            "text/plain": [
              "<Figure size 432x288 with 1 Axes>"
            ]
          },
          "metadata": {
            "tags": []
          }
        }
      ]
    },
    {
      "cell_type": "code",
      "metadata": {
        "id": "VptuHN2eDu4Q",
        "colab_type": "code",
        "colab": {
          "base_uri": "https://localhost:8080/",
          "height": 304
        },
        "outputId": "7a4d057c-d4bb-4978-d990-ace1781f529e"
      },
      "source": [
        "#united kingdom has way to much influence \n",
        "#barplot minus the united kingdom \n",
        "dfukless = df[df.Country != 'United Kingdom']\n",
        "sns.countplot(y='Country', data=dfukless, palette='Blues_d')"
      ],
      "execution_count": 72,
      "outputs": [
        {
          "output_type": "execute_result",
          "data": {
            "text/plain": [
              "<matplotlib.axes._subplots.AxesSubplot at 0x7f834dbdc8d0>"
            ]
          },
          "metadata": {
            "tags": []
          },
          "execution_count": 72
        },
        {
          "output_type": "display_data",
          "data": {
            "image/png": "[encoded data removed]",
            "text/plain": [
              "<Figure size 432x288 with 1 Axes>"
            ]
          },
          "metadata": {
            "tags": []
          }
        }
      ]
    },
    {
      "cell_type": "code",
      "metadata": {
        "id": "yCiDt2f3FA8-",
        "colab_type": "code",
        "colab": {}
      },
      "source": [
        "# Just France \n",
        "basket = (df[df['Country'] =='France']\n",
        "          .groupby(['InvoiceNo', 'Description'])['Quantity']\n",
        "          .sum().unstack().reset_index().fillna(0)\n",
        "          .set_index('InvoiceNo'))"
      ],
      "execution_count": 73,
      "outputs": []
    },
    {
      "cell_type": "code",
      "metadata": {
        "id": "nnH8c7ugL7Yb",
        "colab_type": "code",
        "colab": {}
      },
      "source": [
        "def encode_units(x):\n",
        "  if x <= 0:\n",
        "    return 0\n",
        "  if x >= 1:\n",
        "    return 1\n",
        "basket_sets = basket.applymap(encode_units)\n",
        "basket_sets.drop('POSTAGE', inplace=True, axis=1)\n"
      ],
      "execution_count": 74,
      "outputs": []
    },
    {
      "cell_type": "code",
      "metadata": {
        "id": "aX2htMTRdyob",
        "colab_type": "code",
        "colab": {}
      },
      "source": [
        "frequent_itemsets = apriori(basket_sets, min_support=0.07, use_colnames=True)"
      ],
      "execution_count": 75,
      "outputs": []
    },
    {
      "cell_type": "code",
      "metadata": {
        "id": "zjfEFJErL63I",
        "colab_type": "code",
        "colab": {
          "base_uri": "https://localhost:8080/",
          "height": 206
        },
        "outputId": "de0f3c78-b9ae-438d-8ec1-e14b1b6d6728"
      },
      "source": [
        "rules = association_rules(frequent_itemsets, metric='lift', min_threshold= 1)\n",
        "rules.head()"
      ],
      "execution_count": 76,
      "outputs": [
        {
          "output_type": "execute_result",
          "data": {
            "text/html": [
              "<div>\n",
              "<style scoped>\n",
              "    .dataframe tbody tr th:only-of-type {\n",
              "        vertical-align: middle;\n",
              "    }\n",
              "\n",
              "    .dataframe tbody tr th {\n",
              "        vertical-align: top;\n",
              "    }\n",
              "\n",
              "    .dataframe thead th {\n",
              "        text-align: right;\n",
              "    }\n",
              "</style>\n",
              "<table border=\"1\" class=\"dataframe\">\n",
              "  <thead>\n",
              "    <tr style=\"text-align: right;\">\n",
              "      <th></th>\n",
              "      <th>antecedents</th>\n",
              "      <th>consequents</th>\n",
              "      <th>antecedent support</th>\n",
              "      <th>consequent support</th>\n",
              "      <th>support</th>\n",
              "      <th>confidence</th>\n",
              "      <th>lift</th>\n",
              "      <th>leverage</th>\n",
              "      <th>conviction</th>\n",
              "    </tr>\n",
              "  </thead>\n",
              "  <tbody>\n",
              "    <tr>\n",
              "      <th>0</th>\n",
              "      <td>(ALARM CLOCK BAKELIKE GREEN)</td>\n",
              "      <td>(ALARM CLOCK BAKELIKE PINK)</td>\n",
              "      <td>0.096939</td>\n",
              "      <td>0.102041</td>\n",
              "      <td>0.073980</td>\n",
              "      <td>0.763158</td>\n",
              "      <td>7.478947</td>\n",
              "      <td>0.064088</td>\n",
              "      <td>3.791383</td>\n",
              "    </tr>\n",
              "    <tr>\n",
              "      <th>1</th>\n",
              "      <td>(ALARM CLOCK BAKELIKE PINK)</td>\n",
              "      <td>(ALARM CLOCK BAKELIKE GREEN)</td>\n",
              "      <td>0.102041</td>\n",
              "      <td>0.096939</td>\n",
              "      <td>0.073980</td>\n",
              "      <td>0.725000</td>\n",
              "      <td>7.478947</td>\n",
              "      <td>0.064088</td>\n",
              "      <td>3.283859</td>\n",
              "    </tr>\n",
              "    <tr>\n",
              "      <th>2</th>\n",
              "      <td>(ALARM CLOCK BAKELIKE RED)</td>\n",
              "      <td>(ALARM CLOCK BAKELIKE GREEN)</td>\n",
              "      <td>0.094388</td>\n",
              "      <td>0.096939</td>\n",
              "      <td>0.079082</td>\n",
              "      <td>0.837838</td>\n",
              "      <td>8.642959</td>\n",
              "      <td>0.069932</td>\n",
              "      <td>5.568878</td>\n",
              "    </tr>\n",
              "    <tr>\n",
              "      <th>3</th>\n",
              "      <td>(ALARM CLOCK BAKELIKE GREEN)</td>\n",
              "      <td>(ALARM CLOCK BAKELIKE RED)</td>\n",
              "      <td>0.096939</td>\n",
              "      <td>0.094388</td>\n",
              "      <td>0.079082</td>\n",
              "      <td>0.815789</td>\n",
              "      <td>8.642959</td>\n",
              "      <td>0.069932</td>\n",
              "      <td>4.916181</td>\n",
              "    </tr>\n",
              "    <tr>\n",
              "      <th>4</th>\n",
              "      <td>(ALARM CLOCK BAKELIKE RED)</td>\n",
              "      <td>(ALARM CLOCK BAKELIKE PINK)</td>\n",
              "      <td>0.094388</td>\n",
              "      <td>0.102041</td>\n",
              "      <td>0.073980</td>\n",
              "      <td>0.783784</td>\n",
              "      <td>7.681081</td>\n",
              "      <td>0.064348</td>\n",
              "      <td>4.153061</td>\n",
              "    </tr>\n",
              "  </tbody>\n",
              "</table>\n",
              "</div>"
            ],
            "text/plain": [
              "                    antecedents  ... conviction\n",
              "0  (ALARM CLOCK BAKELIKE GREEN)  ...   3.791383\n",
              "1   (ALARM CLOCK BAKELIKE PINK)  ...   3.283859\n",
              "2    (ALARM CLOCK BAKELIKE RED)  ...   5.568878\n",
              "3  (ALARM CLOCK BAKELIKE GREEN)  ...   4.916181\n",
              "4    (ALARM CLOCK BAKELIKE RED)  ...   4.153061\n",
              "\n",
              "[5 rows x 9 columns]"
            ]
          },
          "metadata": {
            "tags": []
          },
          "execution_count": 76
        }
      ]
    },
    {
      "cell_type": "code",
      "metadata": {
        "id": "aeps_mJDeNcw",
        "colab_type": "code",
        "colab": {
          "base_uri": "https://localhost:8080/",
          "height": 370
        },
        "outputId": "a06ce9db-ac18-48b3-cc63-e75e8f22148b"
      },
      "source": [
        "rules[ (rules['lift'] >=6 ) &\n",
        "       (rules['confidence'] >= 0.8)\n",
        "      \n",
        "]"
      ],
      "execution_count": 78,
      "outputs": [
        {
          "output_type": "execute_result",
          "data": {
            "text/html": [
              "<div>\n",
              "<style scoped>\n",
              "    .dataframe tbody tr th:only-of-type {\n",
              "        vertical-align: middle;\n",
              "    }\n",
              "\n",
              "    .dataframe tbody tr th {\n",
              "        vertical-align: top;\n",
              "    }\n",
              "\n",
              "    .dataframe thead th {\n",
              "        text-align: right;\n",
              "    }\n",
              "</style>\n",
              "<table border=\"1\" class=\"dataframe\">\n",
              "  <thead>\n",
              "    <tr style=\"text-align: right;\">\n",
              "      <th></th>\n",
              "      <th>antecedents</th>\n",
              "      <th>consequents</th>\n",
              "      <th>antecedent support</th>\n",
              "      <th>consequent support</th>\n",
              "      <th>support</th>\n",
              "      <th>confidence</th>\n",
              "      <th>lift</th>\n",
              "      <th>leverage</th>\n",
              "      <th>conviction</th>\n",
              "    </tr>\n",
              "  </thead>\n",
              "  <tbody>\n",
              "    <tr>\n",
              "      <th>2</th>\n",
              "      <td>(ALARM CLOCK BAKELIKE RED)</td>\n",
              "      <td>(ALARM CLOCK BAKELIKE GREEN)</td>\n",
              "      <td>0.094388</td>\n",
              "      <td>0.096939</td>\n",
              "      <td>0.079082</td>\n",
              "      <td>0.837838</td>\n",
              "      <td>8.642959</td>\n",
              "      <td>0.069932</td>\n",
              "      <td>5.568878</td>\n",
              "    </tr>\n",
              "    <tr>\n",
              "      <th>3</th>\n",
              "      <td>(ALARM CLOCK BAKELIKE GREEN)</td>\n",
              "      <td>(ALARM CLOCK BAKELIKE RED)</td>\n",
              "      <td>0.096939</td>\n",
              "      <td>0.094388</td>\n",
              "      <td>0.079082</td>\n",
              "      <td>0.815789</td>\n",
              "      <td>8.642959</td>\n",
              "      <td>0.069932</td>\n",
              "      <td>4.916181</td>\n",
              "    </tr>\n",
              "    <tr>\n",
              "      <th>16</th>\n",
              "      <td>(SET/6 RED SPOTTY PAPER PLATES)</td>\n",
              "      <td>(SET/20 RED RETROSPOT PAPER NAPKINS)</td>\n",
              "      <td>0.127551</td>\n",
              "      <td>0.132653</td>\n",
              "      <td>0.102041</td>\n",
              "      <td>0.800000</td>\n",
              "      <td>6.030769</td>\n",
              "      <td>0.085121</td>\n",
              "      <td>4.336735</td>\n",
              "    </tr>\n",
              "    <tr>\n",
              "      <th>18</th>\n",
              "      <td>(SET/6 RED SPOTTY PAPER CUPS)</td>\n",
              "      <td>(SET/6 RED SPOTTY PAPER PLATES)</td>\n",
              "      <td>0.137755</td>\n",
              "      <td>0.127551</td>\n",
              "      <td>0.122449</td>\n",
              "      <td>0.888889</td>\n",
              "      <td>6.968889</td>\n",
              "      <td>0.104878</td>\n",
              "      <td>7.852041</td>\n",
              "    </tr>\n",
              "    <tr>\n",
              "      <th>19</th>\n",
              "      <td>(SET/6 RED SPOTTY PAPER PLATES)</td>\n",
              "      <td>(SET/6 RED SPOTTY PAPER CUPS)</td>\n",
              "      <td>0.127551</td>\n",
              "      <td>0.137755</td>\n",
              "      <td>0.122449</td>\n",
              "      <td>0.960000</td>\n",
              "      <td>6.968889</td>\n",
              "      <td>0.104878</td>\n",
              "      <td>21.556122</td>\n",
              "    </tr>\n",
              "    <tr>\n",
              "      <th>20</th>\n",
              "      <td>(SET/6 RED SPOTTY PAPER CUPS, SET/6 RED SPOTTY...</td>\n",
              "      <td>(SET/20 RED RETROSPOT PAPER NAPKINS)</td>\n",
              "      <td>0.122449</td>\n",
              "      <td>0.132653</td>\n",
              "      <td>0.099490</td>\n",
              "      <td>0.812500</td>\n",
              "      <td>6.125000</td>\n",
              "      <td>0.083247</td>\n",
              "      <td>4.625850</td>\n",
              "    </tr>\n",
              "    <tr>\n",
              "      <th>21</th>\n",
              "      <td>(SET/6 RED SPOTTY PAPER CUPS, SET/20 RED RETRO...</td>\n",
              "      <td>(SET/6 RED SPOTTY PAPER PLATES)</td>\n",
              "      <td>0.102041</td>\n",
              "      <td>0.127551</td>\n",
              "      <td>0.099490</td>\n",
              "      <td>0.975000</td>\n",
              "      <td>7.644000</td>\n",
              "      <td>0.086474</td>\n",
              "      <td>34.897959</td>\n",
              "    </tr>\n",
              "    <tr>\n",
              "      <th>22</th>\n",
              "      <td>(SET/6 RED SPOTTY PAPER PLATES, SET/20 RED RET...</td>\n",
              "      <td>(SET/6 RED SPOTTY PAPER CUPS)</td>\n",
              "      <td>0.102041</td>\n",
              "      <td>0.137755</td>\n",
              "      <td>0.099490</td>\n",
              "      <td>0.975000</td>\n",
              "      <td>7.077778</td>\n",
              "      <td>0.085433</td>\n",
              "      <td>34.489796</td>\n",
              "    </tr>\n",
              "  </tbody>\n",
              "</table>\n",
              "</div>"
            ],
            "text/plain": [
              "                                          antecedents  ... conviction\n",
              "2                          (ALARM CLOCK BAKELIKE RED)  ...   5.568878\n",
              "3                        (ALARM CLOCK BAKELIKE GREEN)  ...   4.916181\n",
              "16                    (SET/6 RED SPOTTY PAPER PLATES)  ...   4.336735\n",
              "18                      (SET/6 RED SPOTTY PAPER CUPS)  ...   7.852041\n",
              "19                    (SET/6 RED SPOTTY PAPER PLATES)  ...  21.556122\n",
              "20  (SET/6 RED SPOTTY PAPER CUPS, SET/6 RED SPOTTY...  ...   4.625850\n",
              "21  (SET/6 RED SPOTTY PAPER CUPS, SET/20 RED RETRO...  ...  34.897959\n",
              "22  (SET/6 RED SPOTTY PAPER PLATES, SET/20 RED RET...  ...  34.489796\n",
              "\n",
              "[8 rows x 9 columns]"
            ]
          },
          "metadata": {
            "tags": []
          },
          "execution_count": 78
        }
      ]
    },
    {
      "cell_type": "code",
      "metadata": {
        "id": "WOWpjHcKeJ37",
        "colab_type": "code",
        "colab": {
          "base_uri": "https://localhost:8080/",
          "height": 143
        },
        "outputId": "38bc1f63-c4c2-464c-e922-87263537fb24"
      },
      "source": [
        "## Germany \n",
        "\n",
        "basket2 = (df[df['Country'] == 'Germany']\n",
        "           .groupby(['InvoiceNo','Description'])['Quantity']\n",
        "           .sum().unstack().reset_index().fillna(0)\n",
        "           .set_index('InvoiceNo'))\n",
        "basket_set2 = basket2.applymap(encode_units)\n",
        "basket_set2.drop('POSTAGE', inplace=True, axis = 1)\n",
        "frequent_itemsets2 = apriori(basket_set2, min_support=0.05, use_colnames=True)\n",
        "rules4 = association_rules(frequent_itemsets2, metric='lift', min_threshold=1)\n",
        "\n",
        "rules4[  (rules4['lift'] >= 4) &\n",
        "         (rules4['confidence'] >=0.5 )]\n"
      ],
      "execution_count": 77,
      "outputs": [
        {
          "output_type": "execute_result",
          "data": {
            "text/html": [
              "<div>\n",
              "<style scoped>\n",
              "    .dataframe tbody tr th:only-of-type {\n",
              "        vertical-align: middle;\n",
              "    }\n",
              "\n",
              "    .dataframe tbody tr th {\n",
              "        vertical-align: top;\n",
              "    }\n",
              "\n",
              "    .dataframe thead th {\n",
              "        text-align: right;\n",
              "    }\n",
              "</style>\n",
              "<table border=\"1\" class=\"dataframe\">\n",
              "  <thead>\n",
              "    <tr style=\"text-align: right;\">\n",
              "      <th></th>\n",
              "      <th>antecedents</th>\n",
              "      <th>consequents</th>\n",
              "      <th>antecedent support</th>\n",
              "      <th>consequent support</th>\n",
              "      <th>support</th>\n",
              "      <th>confidence</th>\n",
              "      <th>lift</th>\n",
              "      <th>leverage</th>\n",
              "      <th>conviction</th>\n",
              "    </tr>\n",
              "  </thead>\n",
              "  <tbody>\n",
              "    <tr>\n",
              "      <th>1</th>\n",
              "      <td>(PLASTERS IN TIN CIRCUS PARADE)</td>\n",
              "      <td>(PLASTERS IN TIN WOODLAND ANIMALS)</td>\n",
              "      <td>0.115974</td>\n",
              "      <td>0.137856</td>\n",
              "      <td>0.067834</td>\n",
              "      <td>0.584906</td>\n",
              "      <td>4.242887</td>\n",
              "      <td>0.051846</td>\n",
              "      <td>2.076984</td>\n",
              "    </tr>\n",
              "    <tr>\n",
              "      <th>6</th>\n",
              "      <td>(PLASTERS IN TIN SPACEBOY)</td>\n",
              "      <td>(PLASTERS IN TIN WOODLAND ANIMALS)</td>\n",
              "      <td>0.107221</td>\n",
              "      <td>0.137856</td>\n",
              "      <td>0.061269</td>\n",
              "      <td>0.571429</td>\n",
              "      <td>4.145125</td>\n",
              "      <td>0.046488</td>\n",
              "      <td>2.011670</td>\n",
              "    </tr>\n",
              "    <tr>\n",
              "      <th>10</th>\n",
              "      <td>(RED RETROSPOT CHARLOTTE BAG)</td>\n",
              "      <td>(WOODLAND CHARLOTTE BAG)</td>\n",
              "      <td>0.070022</td>\n",
              "      <td>0.126915</td>\n",
              "      <td>0.059081</td>\n",
              "      <td>0.843750</td>\n",
              "      <td>6.648168</td>\n",
              "      <td>0.050194</td>\n",
              "      <td>5.587746</td>\n",
              "    </tr>\n",
              "  </tbody>\n",
              "</table>\n",
              "</div>"
            ],
            "text/plain": [
              "                        antecedents  ... conviction\n",
              "1   (PLASTERS IN TIN CIRCUS PARADE)  ...   2.076984\n",
              "6        (PLASTERS IN TIN SPACEBOY)  ...   2.011670\n",
              "10    (RED RETROSPOT CHARLOTTE BAG)  ...   5.587746\n",
              "\n",
              "[3 rows x 9 columns]"
            ]
          },
          "metadata": {
            "tags": []
          },
          "execution_count": 77
        }
      ]
    },
    {
      "cell_type": "code",
      "metadata": {
        "id": "wZgGeUbTDu7Y",
        "colab_type": "code",
        "colab": {
          "base_uri": "https://localhost:8080/",
          "height": 528
        },
        "outputId": "6c49c521-0835-4ef7-b52d-a5e1a411fb17"
      },
      "source": [
        "## NOW LOOK AT Portugal\n",
        "\n",
        "basket2 = (df[df['Country'] ==\"Portugal\"]\n",
        "          .groupby(['InvoiceNo', 'Description'])['Quantity']\n",
        "          .sum().unstack().reset_index().fillna(0)\n",
        "          .set_index('InvoiceNo'))\n",
        "\n",
        "basket_sets2 = basket2.applymap(encode_units)\n",
        "basket_sets2.drop('POSTAGE', inplace=True, axis=1)\n",
        "frequent_itemsets2 = apriori(basket_sets2, min_support=0.05, use_colnames=True)\n",
        "rules3 = association_rules(frequent_itemsets2, metric=\"lift\", min_threshold=1)\n",
        "\n",
        "rules3[ (rules3['lift'] >= 8) &\n",
        "        (rules3['confidence'] >= 0.8)]\n"
      ],
      "execution_count": 79,
      "outputs": [
        {
          "output_type": "execute_result",
          "data": {
            "text/html": [
              "<div>\n",
              "<style scoped>\n",
              "    .dataframe tbody tr th:only-of-type {\n",
              "        vertical-align: middle;\n",
              "    }\n",
              "\n",
              "    .dataframe tbody tr th {\n",
              "        vertical-align: top;\n",
              "    }\n",
              "\n",
              "    .dataframe thead th {\n",
              "        text-align: right;\n",
              "    }\n",
              "</style>\n",
              "<table border=\"1\" class=\"dataframe\">\n",
              "  <thead>\n",
              "    <tr style=\"text-align: right;\">\n",
              "      <th></th>\n",
              "      <th>antecedents</th>\n",
              "      <th>consequents</th>\n",
              "      <th>antecedent support</th>\n",
              "      <th>consequent support</th>\n",
              "      <th>support</th>\n",
              "      <th>confidence</th>\n",
              "      <th>lift</th>\n",
              "      <th>leverage</th>\n",
              "      <th>conviction</th>\n",
              "    </tr>\n",
              "  </thead>\n",
              "  <tbody>\n",
              "    <tr>\n",
              "      <th>15</th>\n",
              "      <td>(50'S CHRISTMAS GIFT BAG LARGE)</td>\n",
              "      <td>(WOODEN TREE CHRISTMAS SCANDINAVIAN)</td>\n",
              "      <td>0.051724</td>\n",
              "      <td>0.068966</td>\n",
              "      <td>0.051724</td>\n",
              "      <td>1.0</td>\n",
              "      <td>14.500000</td>\n",
              "      <td>0.048157</td>\n",
              "      <td>inf</td>\n",
              "    </tr>\n",
              "    <tr>\n",
              "      <th>120</th>\n",
              "      <td>(STRAWBERRY FAIRY CAKE TEAPOT)</td>\n",
              "      <td>(CERAMIC STRAWBERRY CAKE MONEY BANK)</td>\n",
              "      <td>0.068966</td>\n",
              "      <td>0.086207</td>\n",
              "      <td>0.068966</td>\n",
              "      <td>1.0</td>\n",
              "      <td>11.600000</td>\n",
              "      <td>0.063020</td>\n",
              "      <td>inf</td>\n",
              "    </tr>\n",
              "    <tr>\n",
              "      <th>199</th>\n",
              "      <td>(JUMBO BAG ALPHABET)</td>\n",
              "      <td>(CHARLOTTE BAG VINTAGE ALPHABET)</td>\n",
              "      <td>0.051724</td>\n",
              "      <td>0.068966</td>\n",
              "      <td>0.051724</td>\n",
              "      <td>1.0</td>\n",
              "      <td>14.500000</td>\n",
              "      <td>0.048157</td>\n",
              "      <td>inf</td>\n",
              "    </tr>\n",
              "    <tr>\n",
              "      <th>200</th>\n",
              "      <td>(CHARLOTTE BAG VINTAGE ALPHABET)</td>\n",
              "      <td>(LUNCH BAG ALPHABET DESIGN)</td>\n",
              "      <td>0.068966</td>\n",
              "      <td>0.068966</td>\n",
              "      <td>0.068966</td>\n",
              "      <td>1.0</td>\n",
              "      <td>14.500000</td>\n",
              "      <td>0.064209</td>\n",
              "      <td>inf</td>\n",
              "    </tr>\n",
              "    <tr>\n",
              "      <th>201</th>\n",
              "      <td>(LUNCH BAG ALPHABET DESIGN)</td>\n",
              "      <td>(CHARLOTTE BAG VINTAGE ALPHABET)</td>\n",
              "      <td>0.068966</td>\n",
              "      <td>0.068966</td>\n",
              "      <td>0.068966</td>\n",
              "      <td>1.0</td>\n",
              "      <td>14.500000</td>\n",
              "      <td>0.064209</td>\n",
              "      <td>inf</td>\n",
              "    </tr>\n",
              "    <tr>\n",
              "      <th>...</th>\n",
              "      <td>...</td>\n",
              "      <td>...</td>\n",
              "      <td>...</td>\n",
              "      <td>...</td>\n",
              "      <td>...</td>\n",
              "      <td>...</td>\n",
              "      <td>...</td>\n",
              "      <td>...</td>\n",
              "      <td>...</td>\n",
              "    </tr>\n",
              "    <tr>\n",
              "      <th>334914</th>\n",
              "      <td>(RED RETROSPOT CHARLOTTE BAG, LUNCH BAG VINTAG...</td>\n",
              "      <td>(LUNCH BAG CARS BLUE, LUNCH BAG SPACEBOY DESIG...</td>\n",
              "      <td>0.051724</td>\n",
              "      <td>0.051724</td>\n",
              "      <td>0.051724</td>\n",
              "      <td>1.0</td>\n",
              "      <td>19.333333</td>\n",
              "      <td>0.049049</td>\n",
              "      <td>inf</td>\n",
              "    </tr>\n",
              "    <tr>\n",
              "      <th>334916</th>\n",
              "      <td>(RED RETROSPOT CHARLOTTE BAG, JUMBO BAG VINTAG...</td>\n",
              "      <td>(LUNCH BAG CARS BLUE, LUNCH BAG SPACEBOY DESIG...</td>\n",
              "      <td>0.051724</td>\n",
              "      <td>0.051724</td>\n",
              "      <td>0.051724</td>\n",
              "      <td>1.0</td>\n",
              "      <td>19.333333</td>\n",
              "      <td>0.049049</td>\n",
              "      <td>inf</td>\n",
              "    </tr>\n",
              "    <tr>\n",
              "      <th>334926</th>\n",
              "      <td>(LUNCH BAG SPACEBOY DESIGN, JUMBO BAG RED RETR...</td>\n",
              "      <td>(LUNCH BAG CARS BLUE, RED RETROSPOT CHARLOTTE ...</td>\n",
              "      <td>0.051724</td>\n",
              "      <td>0.051724</td>\n",
              "      <td>0.051724</td>\n",
              "      <td>1.0</td>\n",
              "      <td>19.333333</td>\n",
              "      <td>0.049049</td>\n",
              "      <td>inf</td>\n",
              "    </tr>\n",
              "    <tr>\n",
              "      <th>334927</th>\n",
              "      <td>(LUNCH BAG SPACEBOY DESIGN, LUNCH BAG VINTAGE ...</td>\n",
              "      <td>(LUNCH BAG CARS BLUE, RED RETROSPOT CHARLOTTE ...</td>\n",
              "      <td>0.051724</td>\n",
              "      <td>0.051724</td>\n",
              "      <td>0.051724</td>\n",
              "      <td>1.0</td>\n",
              "      <td>19.333333</td>\n",
              "      <td>0.049049</td>\n",
              "      <td>inf</td>\n",
              "    </tr>\n",
              "    <tr>\n",
              "      <th>334929</th>\n",
              "      <td>(LUNCH BAG SPACEBOY DESIGN, JUMBO BAG VINTAGE ...</td>\n",
              "      <td>(LUNCH BAG CARS BLUE, RED RETROSPOT CHARLOTTE ...</td>\n",
              "      <td>0.051724</td>\n",
              "      <td>0.051724</td>\n",
              "      <td>0.051724</td>\n",
              "      <td>1.0</td>\n",
              "      <td>19.333333</td>\n",
              "      <td>0.049049</td>\n",
              "      <td>inf</td>\n",
              "    </tr>\n",
              "  </tbody>\n",
              "</table>\n",
              "<p>121616 rows × 9 columns</p>\n",
              "</div>"
            ],
            "text/plain": [
              "                                              antecedents  ... conviction\n",
              "15                        (50'S CHRISTMAS GIFT BAG LARGE)  ...        inf\n",
              "120                        (STRAWBERRY FAIRY CAKE TEAPOT)  ...        inf\n",
              "199                                  (JUMBO BAG ALPHABET)  ...        inf\n",
              "200                      (CHARLOTTE BAG VINTAGE ALPHABET)  ...        inf\n",
              "201                           (LUNCH BAG ALPHABET DESIGN)  ...        inf\n",
              "...                                                   ...  ...        ...\n",
              "334914  (RED RETROSPOT CHARLOTTE BAG, LUNCH BAG VINTAG...  ...        inf\n",
              "334916  (RED RETROSPOT CHARLOTTE BAG, JUMBO BAG VINTAG...  ...        inf\n",
              "334926  (LUNCH BAG SPACEBOY DESIGN, JUMBO BAG RED RETR...  ...        inf\n",
              "334927  (LUNCH BAG SPACEBOY DESIGN, LUNCH BAG VINTAGE ...  ...        inf\n",
              "334929  (LUNCH BAG SPACEBOY DESIGN, JUMBO BAG VINTAGE ...  ...        inf\n",
              "\n",
              "[121616 rows x 9 columns]"
            ]
          },
          "metadata": {
            "tags": []
          },
          "execution_count": 79
        }
      ]
    },
    {
      "cell_type": "code",
      "metadata": {
        "id": "RubQvS1lDu-H",
        "colab_type": "code",
        "colab": {}
      },
      "source": [
        ""
      ],
      "execution_count": null,
      "outputs": []
    },
    {
      "cell_type": "code",
      "metadata": {
        "id": "eCMuUuinDvAl",
        "colab_type": "code",
        "colab": {}
      },
      "source": [
        ""
      ],
      "execution_count": null,
      "outputs": []
    },
    {
      "cell_type": "code",
      "metadata": {
        "id": "CM3KtquJDvEf",
        "colab_type": "code",
        "colab": {}
      },
      "source": [
        ""
      ],
      "execution_count": null,
      "outputs": []
    },
    {
      "cell_type": "code",
      "metadata": {
        "id": "y-T-L6QvBI5w",
        "colab_type": "code",
        "colab": {}
      },
      "source": [
        ""
      ],
      "execution_count": null,
      "outputs": []
    }
  ]
}